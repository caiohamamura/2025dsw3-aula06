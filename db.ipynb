{
 "cells": [
  {
   "cell_type": "code",
   "execution_count": 3,
   "metadata": {},
   "outputs": [
    {
     "data": {
      "text/html": [
       "<div style='max-height: 500px; overflow: auto; width: 100%'><table border=\"1\" class=\"dataframe\">\n",
       "  <thead>\n",
       "    <tr style=\"text-align: right;\">\n",
       "      <th></th>\n",
       "      <th>id</th>\n",
       "      <th>autor</th>\n",
       "      <th>imagem</th>\n",
       "      <th>mensagem</th>\n",
       "    </tr>\n",
       "  </thead>\n",
       "  <tbody>\n",
       "    <tr>\n",
       "      <th>0</th>\n",
       "      <td>1</td>\n",
       "      <td>fwaddsfesg</td>\n",
       "      <td></td>\n",
       "      <td>wfadgesg rdg dhfdg seg sdg</td>\n",
       "    </tr>\n",
       "    <tr>\n",
       "      <th>1</th>\n",
       "      <td>2</td>\n",
       "      <td>Caio</td>\n",
       "      <td></td>\n",
       "      <td>Essa é uma foto da foto</td>\n",
       "    </tr>\n",
       "    <tr>\n",
       "      <th>2</th>\n",
       "      <td>3</td>\n",
       "      <td>Caio</td>\n",
       "      <td>posts/premium_photo-1731442837021-3929f70e1710.jfif</td>\n",
       "      <td>Nova tentativa de enviar foto</td>\n",
       "    </tr>\n",
       "  </tbody>\n",
       "</table></div>"
      ],
      "text/plain": [
       "   id       autor                                               imagem                       mensagem\n",
       "0   1  fwaddsfesg                                                          wfadgesg rdg dhfdg seg sdg\n",
       "1   2        Caio                                                             Essa é uma foto da foto\n",
       "2   3        Caio  posts/premium_photo-1731442837021-3929f70e1710.jfif  Nova tentativa de enviar foto"
      ]
     },
     "metadata": {},
     "output_type": "display_data"
    }
   ],
   "source": [
    "SELECT * FROM instacaio_post;"
   ]
  }
 ],
 "metadata": {
  "kernelspec": {
   "display_name": "Mysql",
   "language": "sql",
   "name": "mysql"
  },
  "language_info": {
   "file_extension": ".sql",
   "mimetype": "text/x-sh",
   "name": "sql"
  }
 },
 "nbformat": 4,
 "nbformat_minor": 2
}
